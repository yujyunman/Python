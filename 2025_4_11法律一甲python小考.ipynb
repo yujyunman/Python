{
  "nbformat": 4,
  "nbformat_minor": 0,
  "metadata": {
    "colab": {
      "provenance": [],
      "authorship_tag": "ABX9TyN0h5PMBGlz8fO+U+O5pz9l",
      "include_colab_link": true
    },
    "kernelspec": {
      "name": "python3",
      "display_name": "Python 3"
    },
    "language_info": {
      "name": "python"
    }
  },
  "cells": [
    {
      "cell_type": "markdown",
      "metadata": {
        "id": "view-in-github",
        "colab_type": "text"
      },
      "source": [
        "<a href=\"https://colab.research.google.com/github/yujyunman/Python/blob/main/2025_4_11%E6%B3%95%E5%BE%8B%E4%B8%80%E7%94%B2python%E5%B0%8F%E8%80%83.ipynb\" target=\"_parent\"><img src=\"https://colab.research.google.com/assets/colab-badge.svg\" alt=\"Open In Colab\"/></a>"
      ]
    },
    {
      "cell_type": "markdown",
      "source": [
        "印出 班級 姓名 學號"
      ],
      "metadata": {
        "id": "okpYp1lLLaJY"
      }
    },
    {
      "cell_type": "code",
      "source": [],
      "metadata": {
        "id": "x6DpDiLWLgVG"
      },
      "execution_count": null,
      "outputs": []
    },
    {
      "cell_type": "markdown",
      "source": [
        "# **計算機加減乘除**"
      ],
      "metadata": {
        "id": "bdFFMrsszbNX"
      }
    },
    {
      "cell_type": "markdown",
      "source": [
        "# 1.  **22加34**"
      ],
      "metadata": {
        "id": "VOiB3cuqzk6_"
      }
    },
    {
      "cell_type": "code",
      "source": [],
      "metadata": {
        "id": "WNnYuITsziI_"
      },
      "execution_count": null,
      "outputs": []
    },
    {
      "cell_type": "markdown",
      "source": [
        "# 2.  **45減32**"
      ],
      "metadata": {
        "id": "gps--60ozsyF"
      }
    },
    {
      "cell_type": "code",
      "source": [],
      "metadata": {
        "id": "70kwkUgEzwhg"
      },
      "execution_count": null,
      "outputs": []
    },
    {
      "cell_type": "markdown",
      "source": [
        "# 3. **120乘52**"
      ],
      "metadata": {
        "id": "zwKISmGdzxBu"
      }
    },
    {
      "cell_type": "code",
      "source": [],
      "metadata": {
        "id": "djXd4QEKz1SV"
      },
      "execution_count": null,
      "outputs": []
    },
    {
      "cell_type": "markdown",
      "source": [
        "# 4. **78除6**"
      ],
      "metadata": {
        "id": "D_LgDrB_z8cT"
      }
    },
    {
      "cell_type": "code",
      "source": [],
      "metadata": {
        "id": "R9_6WfPC0Hni"
      },
      "execution_count": null,
      "outputs": []
    },
    {
      "cell_type": "markdown",
      "source": [
        "# 5. **96除32(取整數)**"
      ],
      "metadata": {
        "id": "HOqqrGTU0Jqw"
      }
    },
    {
      "cell_type": "code",
      "source": [],
      "metadata": {
        "id": "XroFJV000mtg"
      },
      "execution_count": null,
      "outputs": []
    },
    {
      "cell_type": "markdown",
      "source": [
        "# 6. **5的5次方**"
      ],
      "metadata": {
        "id": "nGlMTWj90ti5"
      }
    },
    {
      "cell_type": "code",
      "source": [],
      "metadata": {
        "id": "z3sRZEIF005i"
      },
      "execution_count": null,
      "outputs": []
    },
    {
      "cell_type": "markdown",
      "source": [
        "# **7.85除14(取餘數)**"
      ],
      "metadata": {
        "id": "HbxQJ74wDJwj"
      }
    },
    {
      "cell_type": "code",
      "source": [],
      "metadata": {
        "id": "BAmnAypJDbKV"
      },
      "execution_count": null,
      "outputs": []
    },
    {
      "cell_type": "markdown",
      "source": [
        "# **變數宣告**"
      ],
      "metadata": {
        "id": "0rwituFdDedJ"
      }
    },
    {
      "cell_type": "markdown",
      "source": [
        "# **8.變數Str，銘傳大學印出變數內容**"
      ],
      "metadata": {
        "id": "sC2b900rDn5u"
      }
    },
    {
      "cell_type": "code",
      "source": [],
      "metadata": {
        "id": "r7uynjN-D1gc"
      },
      "execution_count": null,
      "outputs": []
    },
    {
      "cell_type": "markdown",
      "source": [
        "# **9.變數Num，101印出變數內容**"
      ],
      "metadata": {
        "id": "Xur3LPnYEF9i"
      }
    },
    {
      "cell_type": "code",
      "source": [],
      "metadata": {
        "id": "McrcdyvbEPWJ"
      },
      "execution_count": null,
      "outputs": []
    },
    {
      "cell_type": "markdown",
      "source": [
        "# **10.變數Fruit，西瓜印出變數內容**"
      ],
      "metadata": {
        "id": "rWwU3VSWEQfn"
      }
    },
    {
      "cell_type": "code",
      "source": [],
      "metadata": {
        "id": "Ce4UYjkcLRmD"
      },
      "execution_count": null,
      "outputs": []
    },
    {
      "cell_type": "markdown",
      "source": [
        "# **11.變數x銘傳，y大學，印出銘傳大學**"
      ],
      "metadata": {
        "id": "Za6mt3jhTLCN"
      }
    },
    {
      "cell_type": "code",
      "source": [],
      "metadata": {
        "id": "VOWiwrP6TU9-"
      },
      "execution_count": null,
      "outputs": []
    },
    {
      "cell_type": "markdown",
      "source": [
        "# **數值型態和類別**"
      ],
      "metadata": {
        "id": "mXPq1BQ4LheA"
      }
    },
    {
      "cell_type": "markdown",
      "source": [
        "# **12.變數Num1，印出10和類別**"
      ],
      "metadata": {
        "id": "CcUvW6kzL4cf"
      }
    },
    {
      "cell_type": "code",
      "source": [],
      "metadata": {
        "id": "ttEayB-QMVyP"
      },
      "execution_count": null,
      "outputs": []
    },
    {
      "cell_type": "markdown",
      "source": [
        "# **13.變數Num2，印出3.14和類別**"
      ],
      "metadata": {
        "id": "Z0CiqzOOMZX8"
      }
    },
    {
      "cell_type": "code",
      "source": [],
      "metadata": {
        "id": "IjwM17l5NM7I"
      },
      "execution_count": null,
      "outputs": []
    },
    {
      "cell_type": "markdown",
      "source": [
        "# **14.變數Num3，印出True和類別**"
      ],
      "metadata": {
        "id": "X3ZrvYhDNUmY"
      }
    },
    {
      "cell_type": "code",
      "source": [],
      "metadata": {
        "id": "46GdIZXANlzJ"
      },
      "execution_count": null,
      "outputs": []
    },
    {
      "cell_type": "markdown",
      "source": [
        "# 15.**變數str2，印出銘傳大學法律和類別**"
      ],
      "metadata": {
        "id": "v9lO-u7rNzjj"
      }
    },
    {
      "cell_type": "code",
      "source": [],
      "metadata": {
        "id": "aYSeIVBfN3U5"
      },
      "execution_count": null,
      "outputs": []
    },
    {
      "cell_type": "markdown",
      "source": [
        "# **資料型態強制轉換**"
      ],
      "metadata": {
        "id": "2orkwDPpOO9B"
      }
    },
    {
      "cell_type": "markdown",
      "source": [
        "# **16.請將浮點數12.6轉換成整數印出轉換結果**"
      ],
      "metadata": {
        "id": "GDdjGDELONYA"
      }
    },
    {
      "cell_type": "code",
      "source": [],
      "metadata": {
        "id": "eifXwQ-HOagg"
      },
      "execution_count": null,
      "outputs": []
    },
    {
      "cell_type": "markdown",
      "source": [
        "# **17.請將整數32轉換浮點數印出轉換結果**"
      ],
      "metadata": {
        "id": "yqcs_DbIOYp0"
      }
    },
    {
      "cell_type": "code",
      "source": [],
      "metadata": {
        "id": "oGtWWmZKP_QQ"
      },
      "execution_count": null,
      "outputs": []
    },
    {
      "cell_type": "markdown",
      "source": [
        "# **18.請將字串202，轉換成整數和浮點數印出轉換結果**"
      ],
      "metadata": {
        "id": "GPd7rY3cQ711"
      }
    },
    {
      "cell_type": "code",
      "source": [],
      "metadata": {
        "id": "lGZerW05S_-w"
      },
      "execution_count": null,
      "outputs": []
    },
    {
      "cell_type": "markdown",
      "source": [
        "# **輸入及輸出**"
      ],
      "metadata": {
        "id": "hZgjLUgqTIOl"
      }
    },
    {
      "cell_type": "markdown",
      "source": [
        "# **19.輸入關鍵字請輸入姓名，輸出名字(您的名字)**"
      ],
      "metadata": {
        "id": "w_7iPZ3wTvW_"
      }
    },
    {
      "cell_type": "code",
      "source": [],
      "metadata": {
        "id": "HkZc0XnkUMbX"
      },
      "execution_count": null,
      "outputs": []
    },
    {
      "cell_type": "markdown",
      "source": [
        "# **20.設計程式輸入三科成績計算總分，國文、英文、數學(整數);90、76、85，印出您的總成績： 分**"
      ],
      "metadata": {
        "id": "0vAE8T1wURQP"
      }
    },
    {
      "cell_type": "code",
      "source": [],
      "metadata": {
        "id": "9Jh5hMHaUwc1"
      },
      "execution_count": null,
      "outputs": []
    },
    {
      "cell_type": "markdown",
      "source": [
        "# **比較運算子**"
      ],
      "metadata": {
        "id": "SNNz6Q44VmIs"
      }
    },
    {
      "cell_type": "markdown",
      "source": [
        "# **21.變數a，100，變數b,90，印出大於等於的結果**"
      ],
      "metadata": {
        "id": "o5DX8rSXVtl-"
      }
    },
    {
      "cell_type": "code",
      "source": [],
      "metadata": {
        "id": "HoFg_Zd_WfGo"
      },
      "execution_count": null,
      "outputs": []
    },
    {
      "cell_type": "markdown",
      "source": [
        "# **22.變數a，100，變數b,90，印出小於等於的結果**"
      ],
      "metadata": {
        "id": "Tq7Hd578Wfku"
      }
    },
    {
      "cell_type": "code",
      "source": [],
      "metadata": {
        "id": "1IzLDvZqWpMy"
      },
      "execution_count": null,
      "outputs": []
    },
    {
      "cell_type": "markdown",
      "source": [
        "# **23.變數c，33，變數d，33，印出等於的結果**"
      ],
      "metadata": {
        "id": "9TqZJf3lWuxo"
      }
    },
    {
      "cell_type": "code",
      "source": [],
      "metadata": {
        "id": "hfOUxFjTXMFZ"
      },
      "execution_count": null,
      "outputs": []
    },
    {
      "cell_type": "markdown",
      "source": [
        "# **24.變數e，65，變數f，56，印出不等於的結果**"
      ],
      "metadata": {
        "id": "iCJmoaacXMXN"
      }
    },
    {
      "cell_type": "code",
      "source": [],
      "metadata": {
        "id": "nefvK1zJX3fM"
      },
      "execution_count": null,
      "outputs": []
    },
    {
      "cell_type": "markdown",
      "source": [
        "# **條件判斷**"
      ],
      "metadata": {
        "id": "5xA7PSYMX4Es"
      }
    },
    {
      "cell_type": "markdown",
      "source": [
        "# **25.請輸入溫度(整數)，判斷溫度是否小於27度。 輸入溫度24度。輸出關鍵字:立即關閉冷氣。**"
      ],
      "metadata": {
        "id": "8Lgbcv8VYBCW"
      }
    },
    {
      "cell_type": "code",
      "source": [],
      "metadata": {
        "id": "wwE1GKDbcoyo"
      },
      "execution_count": null,
      "outputs": []
    },
    {
      "cell_type": "markdown",
      "source": [
        "# **26.請設計密碼程式，輸入正確密碼才能登入，密碼是3214，印出密碼正確，歡迎進入**"
      ],
      "metadata": {
        "id": "Hu5CU8MMdCvB"
      }
    },
    {
      "cell_type": "code",
      "source": [],
      "metadata": {
        "id": "Snrlyueodabd"
      },
      "execution_count": null,
      "outputs": []
    },
    {
      "cell_type": "markdown",
      "source": [
        "# **27.請輸入感測器數值(浮點數)，判斷是否超過40，顯示紅燈警示，否則顯示綠燈警示。請輸入數值42.5，輸出紅燈警示。**"
      ],
      "metadata": {
        "id": "5vTrm-ASialn"
      }
    },
    {
      "cell_type": "code",
      "source": [],
      "metadata": {
        "id": "MmWF2JjLjNhZ"
      },
      "execution_count": null,
      "outputs": []
    },
    {
      "cell_type": "markdown",
      "source": [
        "# **28.請輸入分數，程式將回應A、B、C、D、F等級。印出計算最終成績:請輸入分數: 85印出B**"
      ],
      "metadata": {
        "id": "krb4CaazjPGE"
      }
    },
    {
      "cell_type": "code",
      "source": [],
      "metadata": {
        "id": "tQqiDSsblNbE"
      },
      "execution_count": null,
      "outputs": []
    },
    {
      "cell_type": "markdown",
      "source": [
        "29.![image.png](data:image/png;base64,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)\n",
        "# **計算BMI指數，程式輸入身高與體重，計算BMI，請輸入身體自己的身高、自己的體重。大於24是肥胖，小於24正常體重**"
      ],
      "metadata": {
        "id": "b0uJo5vrlMbG"
      }
    },
    {
      "cell_type": "code",
      "source": [],
      "metadata": {
        "id": "q94T4so1o924"
      },
      "execution_count": null,
      "outputs": []
    },
    {
      "cell_type": "markdown",
      "source": [
        "# **30.12生肖 鼠牛虎兔龍蛇馬羊猴雞狗豬。12生肖，每12年是一週期，1900年是鼠年。 請輸入西元幾年可以算出生肖? 請輸入2022算出生肖**"
      ],
      "metadata": {
        "id": "kF8fhFl1pweE"
      }
    },
    {
      "cell_type": "code",
      "source": [],
      "metadata": {
        "id": "N0gEh-9W2ihX"
      },
      "execution_count": null,
      "outputs": []
    },
    {
      "cell_type": "markdown",
      "source": [],
      "metadata": {
        "id": "8ibgD89utBjf"
      }
    }
  ]
}