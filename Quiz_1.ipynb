{
  "nbformat": 4,
  "nbformat_minor": 0,
  "metadata": {
    "colab": {
      "name": "Quiz 1",
      "provenance": []
    },
    "kernelspec": {
      "name": "python3",
      "display_name": "Python 3"
    },
    "language_info": {
      "name": "python"
    }
  },
  "cells": [
    {
      "cell_type": "markdown",
      "source": [
        "3/30銘傳大學法律一甲 Python 小考\n",
        "\n",
        "---\n",
        "\n",
        "\n",
        "\n",
        "\n"
      ],
      "metadata": {
        "id": "deYyyllKtyd8"
      }
    },
    {
      "cell_type": "markdown",
      "source": [
        "** Python 基本運算 加 減 乘 除**\n",
        "\n",
        "---\n",
        "\n",
        "\n",
        "\n",
        "\n"
      ],
      "metadata": {
        "id": "41KG_l9IuRtc"
      }
    },
    {
      "cell_type": "markdown",
      "source": [
        "10 加 21=?"
      ],
      "metadata": {
        "id": "6N22x2PDv0SZ"
      }
    },
    {
      "cell_type": "code",
      "source": [
        ""
      ],
      "metadata": {
        "id": "a7Z6RSfpv-fh"
      },
      "execution_count": null,
      "outputs": []
    },
    {
      "cell_type": "markdown",
      "source": [
        "100 減 13=?"
      ],
      "metadata": {
        "id": "mdJW0bAHv_QK"
      }
    },
    {
      "cell_type": "code",
      "source": [
        ""
      ],
      "metadata": {
        "id": "PdRJlBCrwFOR"
      },
      "execution_count": null,
      "outputs": []
    },
    {
      "cell_type": "markdown",
      "source": [
        "5 乘 2=?"
      ],
      "metadata": {
        "id": "jihnkG9YwGG5"
      }
    },
    {
      "cell_type": "code",
      "source": [
        ""
      ],
      "metadata": {
        "id": "xFwfZd0twJLh"
      },
      "execution_count": null,
      "outputs": []
    },
    {
      "cell_type": "markdown",
      "source": [
        "7 除 4=? "
      ],
      "metadata": {
        "id": "cDhDEONvwLZS"
      }
    },
    {
      "cell_type": "code",
      "source": [
        ""
      ],
      "metadata": {
        "id": "4u-Gh9DMwfd7"
      },
      "execution_count": null,
      "outputs": []
    },
    {
      "cell_type": "markdown",
      "source": [
        "50 除 4 =? (取整數)"
      ],
      "metadata": {
        "id": "LL4or36nwjwq"
      }
    },
    {
      "cell_type": "code",
      "source": [
        ""
      ],
      "metadata": {
        "id": "nvar-usdwtdK"
      },
      "execution_count": null,
      "outputs": []
    },
    {
      "cell_type": "markdown",
      "source": [
        "19 除 5=?(取餘數)"
      ],
      "metadata": {
        "id": "UsSTiT93wwAR"
      }
    },
    {
      "cell_type": "code",
      "source": [
        ""
      ],
      "metadata": {
        "id": "ojFBRHVSw_IR"
      },
      "execution_count": null,
      "outputs": []
    },
    {
      "cell_type": "markdown",
      "source": [
        "11的次方=?"
      ],
      "metadata": {
        "id": "RoNnOEFexFgS"
      }
    },
    {
      "cell_type": "code",
      "source": [
        ""
      ],
      "metadata": {
        "id": "TTwiexdMxOxh"
      },
      "execution_count": null,
      "outputs": []
    },
    {
      "cell_type": "markdown",
      "source": [
        "Output 輸出\n",
        "\n",
        "---\n",
        "\n"
      ],
      "metadata": {
        "id": "DPhK_9J3yflC"
      }
    },
    {
      "cell_type": "markdown",
      "source": [
        "輸出 Ming Chuan University\n",
        "\n",
        "\n"
      ],
      "metadata": {
        "id": "A1NyQA6hyw3L"
      }
    },
    {
      "cell_type": "code",
      "source": [
        ""
      ],
      "metadata": {
        "id": "3oNscP6Wy6Sq"
      },
      "execution_count": null,
      "outputs": []
    },
    {
      "cell_type": "markdown",
      "source": [
        "輸出 班級、姓名、學號"
      ],
      "metadata": {
        "id": "VT6PanzhzWi4"
      }
    },
    {
      "cell_type": "code",
      "source": [
        ""
      ],
      "metadata": {
        "id": "TffjWlSEzruy"
      },
      "execution_count": null,
      "outputs": []
    },
    {
      "cell_type": "markdown",
      "source": [
        "輸出將兩個字串相加輸出 'I love programming' 'and MCU'"
      ],
      "metadata": {
        "id": "ZBpk6oEgzwAh"
      }
    },
    {
      "cell_type": "code",
      "source": [
        ""
      ],
      "metadata": {
        "id": "Wnxr9QWt0PqS"
      },
      "execution_count": null,
      "outputs": []
    },
    {
      "cell_type": "markdown",
      "source": [
        "輸出 布林值\n",
        "\n",
        "---\n",
        "\n"
      ],
      "metadata": {
        "id": "Jp0W9pHz0wOS"
      }
    },
    {
      "cell_type": "markdown",
      "source": [
        "輸出布林值與資料型態 x=Ture y=False"
      ],
      "metadata": {
        "id": "MXp7rjfG1V3Z"
      }
    },
    {
      "cell_type": "code",
      "source": [
        ""
      ],
      "metadata": {
        "id": "oI8u8EiD3xjB"
      },
      "execution_count": null,
      "outputs": []
    },
    {
      "cell_type": "markdown",
      "source": [
        "輸出布林值與資料型態 1==1 3==2"
      ],
      "metadata": {
        "id": "YuOgra6O3yGI"
      }
    },
    {
      "cell_type": "code",
      "source": [
        ""
      ],
      "metadata": {
        "id": "hQR3Fh1Y4Jhb"
      },
      "execution_count": null,
      "outputs": []
    },
    {
      "cell_type": "markdown",
      "source": [
        "輸出布林值與資料型態，輸出 True False\n",
        "x = 10 > 8、\n",
        "x = 20 < 10、\n",
        "x = 10 > 15、\n",
        "x = 20 < 18"
      ],
      "metadata": {
        "id": "lyX_hZU74O-_"
      }
    },
    {
      "cell_type": "code",
      "source": [
        ""
      ],
      "metadata": {
        "id": "Wp7VblKv4yP6"
      },
      "execution_count": null,
      "outputs": []
    },
    {
      "cell_type": "markdown",
      "source": [
        "指定變數資料型態\n",
        "\n",
        "---\n",
        "\n"
      ],
      "metadata": {
        "id": "5_6D2xzz5Ern"
      }
    },
    {
      "cell_type": "markdown",
      "source": [
        "將你的名字指定變數為 X ，輸出"
      ],
      "metadata": {
        "id": "qRM9oEJ_5Upw"
      }
    },
    {
      "cell_type": "code",
      "source": [
        ""
      ],
      "metadata": {
        "id": "ZqiPvdzL5tUK"
      },
      "execution_count": null,
      "outputs": []
    },
    {
      "cell_type": "markdown",
      "source": [
        "將你的學號指定變數為 Y ，輸出"
      ],
      "metadata": {
        "id": "3qejWnR85tlY"
      }
    },
    {
      "cell_type": "code",
      "source": [
        ""
      ],
      "metadata": {
        "id": "8_qH83ek50Ln"
      },
      "execution_count": null,
      "outputs": []
    },
    {
      "cell_type": "markdown",
      "source": [
        "數值資料型態\n",
        "\n",
        "---\n",
        "\n"
      ],
      "metadata": {
        "id": "vaaY3NRZ59YZ"
      }
    },
    {
      "cell_type": "markdown",
      "source": [
        "a = 123 輸出數字和型態"
      ],
      "metadata": {
        "id": "lY8RkTIU6MYB"
      }
    },
    {
      "cell_type": "code",
      "source": [
        ""
      ],
      "metadata": {
        "id": "sfB4Y-ax7Zb4"
      },
      "execution_count": null,
      "outputs": []
    },
    {
      "cell_type": "markdown",
      "source": [
        "b = 12.36 輸出數字和型態"
      ],
      "metadata": {
        "id": "G-hOUKAg7Z63"
      }
    },
    {
      "cell_type": "code",
      "source": [
        ""
      ],
      "metadata": {
        "id": "L4KcC1Zl7idv"
      },
      "execution_count": null,
      "outputs": []
    },
    {
      "cell_type": "markdown",
      "source": [
        "x=4 y=3 ==  /=  輸出數字和型態\n"
      ],
      "metadata": {
        "id": "I7o3r-br7vfw"
      }
    },
    {
      "cell_type": "code",
      "source": [
        ""
      ],
      "metadata": {
        "id": "gvetNhDt8JS7"
      },
      "execution_count": null,
      "outputs": []
    },
    {
      "cell_type": "markdown",
      "source": [
        "銘傳大學 輸出文字和型態"
      ],
      "metadata": {
        "id": "TS8rTBTp_OUW"
      }
    },
    {
      "cell_type": "code",
      "source": [
        ""
      ],
      "metadata": {
        "id": "VeAGA6D__XZ3"
      },
      "execution_count": null,
      "outputs": []
    },
    {
      "cell_type": "markdown",
      "source": [
        "字串相加 M=銘傳 N=大學 輸出"
      ],
      "metadata": {
        "id": "kupk2qs6_zL_"
      }
    },
    {
      "cell_type": "code",
      "source": [
        ""
      ],
      "metadata": {
        "id": "wxOfwcN5AEb_"
      },
      "execution_count": null,
      "outputs": []
    },
    {
      "cell_type": "markdown",
      "source": [
        "重複輸出字串 劍潭捷運站 4次"
      ],
      "metadata": {
        "id": "Kvd-JFffAKwn"
      }
    },
    {
      "cell_type": "code",
      "source": [
        ""
      ],
      "metadata": {
        "id": "8TKmFViEAnS4"
      },
      "execution_count": null,
      "outputs": []
    },
    {
      "cell_type": "markdown",
      "source": [
        "計算字串長度 convenient"
      ],
      "metadata": {
        "id": "sgxX3T5vCxNv"
      }
    },
    {
      "cell_type": "code",
      "source": [
        ""
      ],
      "metadata": {
        "id": "aOML3LHQDJDN"
      },
      "execution_count": null,
      "outputs": []
    },
    {
      "cell_type": "markdown",
      "source": [
        "計算字串長度 watermelon"
      ],
      "metadata": {
        "id": "CmrWDEynDJj-"
      }
    },
    {
      "cell_type": "code",
      "source": [
        ""
      ],
      "metadata": {
        "id": "ttOvZp7fHehl"
      },
      "execution_count": null,
      "outputs": []
    },
    {
      "cell_type": "markdown",
      "source": [
        "格式化輸出\n",
        "\n",
        "---\n",
        "\n"
      ],
      "metadata": {
        "id": "PN4IuCkyITAQ"
      }
    },
    {
      "cell_type": "markdown",
      "source": [
        "50.3 格式化輸出整數"
      ],
      "metadata": {
        "id": "VczPo2stIX7d"
      }
    },
    {
      "cell_type": "code",
      "source": [
        ""
      ],
      "metadata": {
        "id": "Tmxq8pSFIjG1"
      },
      "execution_count": null,
      "outputs": []
    },
    {
      "cell_type": "markdown",
      "source": [
        "7.524862 格式化輸出 最小寬度6,取2位小數"
      ],
      "metadata": {
        "id": "LCVQAJG4IjZ_"
      }
    },
    {
      "cell_type": "code",
      "source": [
        ""
      ],
      "metadata": {
        "id": "n3dZhkgZI09t"
      },
      "execution_count": null,
      "outputs": []
    },
    {
      "cell_type": "markdown",
      "source": [
        "My name is 格式化輸出字串 \"May\""
      ],
      "metadata": {
        "id": "rBYUmzU7I1Q9"
      }
    },
    {
      "cell_type": "code",
      "source": [
        ""
      ],
      "metadata": {
        "id": "lheNmmnZJKd1"
      },
      "execution_count": null,
      "outputs": []
    },
    {
      "cell_type": "markdown",
      "source": [
        "str.format() 格式化輸出\n",
        "\n",
        "---\n",
        "\n"
      ],
      "metadata": {
        "id": "k6Z1KSLBJqiX"
      }
    },
    {
      "cell_type": "markdown",
      "source": [
        "name= Jack\n",
        "age= 15\n",
        "格式化輸出 My name is Jack. I am 15 years old."
      ],
      "metadata": {
        "id": "YVZW8uw7JfFF"
      }
    },
    {
      "cell_type": "code",
      "source": [
        ""
      ],
      "metadata": {
        "id": "KedlzquoKpl9"
      },
      "execution_count": null,
      "outputs": []
    },
    {
      "cell_type": "markdown",
      "source": [
        "資料輸入 input()\n",
        "\n",
        "---\n",
        "\n"
      ],
      "metadata": {
        "id": "clCjaC3dKk3d"
      }
    },
    {
      "cell_type": "markdown",
      "source": [
        "印出 成績輸入系統\n",
        "請輸入姓名:\n",
        "請輸入國文成績:\n",
        "請輸入英文成績:\n",
        "請輸入數學成績:\n",
        "姓名 你的三科總分是:\n"
      ],
      "metadata": {
        "id": "82NdeHhwK7iU"
      }
    },
    {
      "cell_type": "code",
      "source": [
        ""
      ],
      "metadata": {
        "id": "5gFtydM9Lj41"
      },
      "execution_count": null,
      "outputs": []
    },
    {
      "cell_type": "markdown",
      "source": [
        "條件判斷 if else\n",
        "\n",
        "\n",
        "---\n",
        "\n"
      ],
      "metadata": {
        "id": "UjVOvoDpNmd8"
      }
    },
    {
      "cell_type": "markdown",
      "source": [
        "請輸入成績: 大於60分以上 印出 成績及格!! 請輸入60"
      ],
      "metadata": {
        "id": "-CeXwyKONs28"
      }
    },
    {
      "cell_type": "code",
      "source": [
        ""
      ],
      "metadata": {
        "id": "CJ2XN9XtO2dU"
      },
      "execution_count": null,
      "outputs": []
    },
    {
      "cell_type": "markdown",
      "source": [
        "請輸入密碼: 輸入密碼正確，會印出密碼正確，歡迎回家! 密碼是 6012"
      ],
      "metadata": {
        "id": "sTr_mEUKPDOi"
      }
    },
    {
      "cell_type": "code",
      "source": [
        ""
      ],
      "metadata": {
        "id": "c1dXk9scPApD"
      },
      "execution_count": null,
      "outputs": []
    },
    {
      "cell_type": "markdown",
      "source": [
        " 年齡18歲以上才能飲酒。請輸入年齡: 判斷18歲以上印出 可以飲酒 未滿18歲 印出不能飲酒 輸入 17 19 印出兩個結果"
      ],
      "metadata": {
        "id": "MQiHPiwEPTtz"
      }
    },
    {
      "cell_type": "code",
      "source": [
        ""
      ],
      "metadata": {
        "id": "9sEYuCguP6CF"
      },
      "execution_count": null,
      "outputs": []
    },
    {
      "cell_type": "markdown",
      "source": [
        "印出計算期末成績 請輸入分數，系統將回應A、B、C、D、F。 90分以上A、80分以上B、70分以上C、60分以上D、其他F"
      ],
      "metadata": {
        "id": "VBaIdZq6RBWT"
      }
    },
    {
      "cell_type": "code",
      "source": [
        ""
      ],
      "metadata": {
        "id": "ofb3km_QRjW8"
      },
      "execution_count": null,
      "outputs": []
    },
    {
      "cell_type": "markdown",
      "source": [
        "請輸入兩個數值 z1 z2 ，做四則運算 + - * / ，輸入數值選擇計算方式 ，如果亂輸入運算方式會印出 不支援運算"
      ],
      "metadata": {
        "id": "QpWqwASURrQT"
      }
    },
    {
      "cell_type": "code",
      "source": [
        ""
      ],
      "metadata": {
        "id": "KtBrQVFASHHy"
      },
      "execution_count": null,
      "outputs": []
    }
  ]
}